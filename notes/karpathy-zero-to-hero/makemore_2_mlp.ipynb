{
 "cells": [
  {
   "cell_type": "code",
   "execution_count": 2,
   "metadata": {},
   "outputs": [],
   "source": [
    "import matplotlib.pyplot as plt\n",
    "import torch\n",
    "from torch import nn\n",
    "from torch.nn import functional as F\n",
    "# import mlflow"
   ]
  },
  {
   "cell_type": "code",
   "execution_count": 4,
   "metadata": {},
   "outputs": [],
   "source": [
    "with open(\"../../names.txt\", \"r\") as f:\n",
    "    names = f.read().splitlines()"
   ]
  },
  {
   "cell_type": "code",
   "execution_count": 5,
   "metadata": {},
   "outputs": [
    {
     "data": {
      "text/plain": [
       "['emma', 'olivia', 'ava', 'isabella', 'sophia']"
      ]
     },
     "execution_count": 5,
     "metadata": {},
     "output_type": "execute_result"
    }
   ],
   "source": [
    "names[:5]"
   ]
  },
  {
   "attachments": {},
   "cell_type": "markdown",
   "metadata": {},
   "source": [
    "![](./Screenshot%202023-07-05%20at%2012.13.13.png)"
   ]
  },
  {
   "cell_type": "code",
   "execution_count": 26,
   "metadata": {},
   "outputs": [],
   "source": [
    "class MLP(nn.Module):\n",
    "    \"\"\"\n",
    "    Based on Bengio et al. 2003. See local copy at `./bengio03a.pdf`\n",
    "    https://www.jmlr.org/papers/volume3/bengio03a/bengio03a.pdf\n",
    "    \n",
    "    Letter level tokens are looked up in an embedding table.\n",
    "    Embedding vectors are then fed into a n-dimensional hidden layer. \n",
    "    Finally a softmax is applied to the output layer, producing a probability\n",
    "    distribution over all possible next tokens in the sequence\n",
    "    \n",
    "    A blocksize variable is used to determine the number of context characters\n",
    "    to use. This allows for a fixed sized hidden layer.\n",
    "    \"\"\"\n",
    "    def __init__(self, blocksize, embedding_dimension, vocab_size, hidden_layer_size):\n",
    "        super().__init__()\n",
    "        self.blocksize = blocksize\n",
    "        self.embedding_dimension = embedding_dimension\n",
    "        self.hidden_layer_input_size = self.blocksize * self.embedding_dimension\n",
    "        # token embeddings\n",
    "        self.C = nn.Parameter(torch.randn(vocab_size, embedding_dimension))\n",
    "        # hidden layer\n",
    "        self.W = nn.Parameter(torch.randn(self.hidden_layer_input_size, hidden_layer_size))\n",
    "        self.d = nn.Parameter(torch.zeros(hidden_layer_size)) \n",
    "        # output layer\n",
    "        self.U = nn.Parameter(torch.randn(hidden_layer_size, vocab_size))\n",
    "        self.b = nn.Parameter(torch.zeros(vocab_size))\n",
    "        \n",
    "        \n",
    "    def forward(self, x, targets=None):\n",
    "        embeddings = self.C[x]\n",
    "        # use view to arrange all of the embeddings into a column vector for\n",
    "        # each example. With batches this will be a [bs, concat_embeddings]\n",
    "        # sized matrix\n",
    "        h = (embeddings.view(-1, self.hidden_layer_input_size) @ self.W + self.d).tanh()\n",
    "        logits = h @ self.U + self.b\n",
    "        preds = F.softmax(logits, dim=1)\n",
    "        \n",
    "        loss = None\n",
    "        if targets is not None:\n",
    "            loss = F.cross_entropy(logits, targets)\n",
    "        \n",
    "        return preds, loss"
   ]
  },
  {
   "cell_type": "code",
   "execution_count": 27,
   "metadata": {},
   "outputs": [],
   "source": [
    "def get_batches(*tensors, batch_size):\n",
    "    assert len(set([t.shape[0] for t in tensors])) == 1, \"All tensors must have the same number of rows\"\n",
    "    \n",
    "    for i in range(0, tensors[0].shape[0] // batch_size):\n",
    "        batch_start = i * batch_size\n",
    "        batch_end = batch_start + batch_size\n",
    "        yield tuple([t[batch_start : batch_end] for t in tensors])"
   ]
  },
  {
   "cell_type": "code",
   "execution_count": 28,
   "metadata": {},
   "outputs": [],
   "source": [
    "def split_data(array):\n",
    "    frac = array.shape[0] * 0.1 // 1\n",
    "    train = array[:int(frac * 8)]\n",
    "    val = array[int(frac * 8): int(frac * 9)]\n",
    "    test = array[int(frac * 9):]\n",
    "    assert train.shape[0] + test.shape[0] + val.shape[0] == array.shape[0]\n",
    "    return train, val, test"
   ]
  },
  {
   "cell_type": "code",
   "execution_count": 29,
   "metadata": {},
   "outputs": [],
   "source": [
    "letters = sorted(list(set(\"\".join(names))))\n",
    "letters.insert(0, \".\")\n",
    "ltoi = {l:i for i, l in enumerate(letters)}\n",
    "itol = {i:l for l, i in ltoi.items()}"
   ]
  },
  {
   "cell_type": "code",
   "execution_count": 33,
   "metadata": {},
   "outputs": [],
   "source": [
    "# datasets\n",
    "blocksize = 3\n",
    "xs, ys = [], []\n",
    "for n in names:\n",
    "    n_padded = \".\" * blocksize + n + \".\"\n",
    "    for i in range(len(n) + 1):\n",
    "        xs.append([ltoi[z] for z in n_padded[i : i + blocksize]])\n",
    "        ys.append(ltoi[n_padded[i + blocksize]])\n",
    "        \n",
    "xs = torch.tensor(xs)\n",
    "ys = torch.tensor(ys)\n",
    "\n",
    "xtrain, xval, xtest = split_data(xs)\n",
    "ytrain, yval, ytest = split_data(ys)\n",
    "\n",
    "m = MLP(\n",
    "    blocksize=blocksize,\n",
    "    embedding_dimension=20,\n",
    "    vocab_size=27,\n",
    "    hidden_layer_size=100\n",
    ")"
   ]
  },
  {
   "cell_type": "code",
   "execution_count": 34,
   "metadata": {},
   "outputs": [
    {
     "name": "stdout",
     "output_type": "stream",
     "text": [
      "2.8416688442230225 0.1\n",
      "2.622138261795044 0.1\n",
      "2.5594422817230225 0.1\n",
      "2.5266711711883545 0.1\n",
      "2.5069942474365234 0.1\n",
      "2.494065761566162 0.1\n",
      "2.483363151550293 0.1\n",
      "2.475870370864868 0.1\n",
      "2.474015474319458 0.1\n",
      "2.470193862915039 0.1\n",
      "2.4651033878326416 0.1\n",
      "2.4604196548461914 0.1\n",
      "2.457545280456543 0.1\n",
      "2.455993890762329 0.1\n",
      "2.4545724391937256 0.1\n",
      "2.45381236076355 0.1\n",
      "2.3344271183013916 0.020000000000000004\n",
      "2.335831880569458 0.020000000000000004\n",
      "2.336484909057617 0.020000000000000004\n",
      "2.336735963821411 0.020000000000000004\n",
      "2.336778402328491 0.020000000000000004\n",
      "2.3367011547088623 0.020000000000000004\n",
      "2.3365516662597656 0.020000000000000004\n",
      "2.33636212348938 0.020000000000000004\n",
      "2.3361499309539795 0.020000000000000004\n",
      "2.3359227180480957 0.020000000000000004\n",
      "2.3356845378875732 0.020000000000000004\n",
      "2.3354358673095703 0.020000000000000004\n",
      "2.335176944732666 0.020000000000000004\n",
      "2.3349075317382812 0.020000000000000004\n"
     ]
    }
   ],
   "source": [
    "losses = []\n",
    "epochs = 30\n",
    "lr = 1e-1\n",
    "\n",
    "find_lr = False\n",
    "lrs = torch.logspace(-5, 0, epochs)\n",
    "bs = 32\n",
    "\n",
    "for i in range(epochs):\n",
    "    for xbatch, ybatch in get_batches(xtrain, ytrain, batch_size=bs):\n",
    "        preds, loss = m(xbatch, ybatch)\n",
    "        \n",
    "        m.zero_grad()\n",
    "        loss.backward()\n",
    "        \n",
    "        \n",
    "        if find_lr:\n",
    "            epoch_lr = lrs[i]\n",
    "        else:\n",
    "            epoch_lr = lr if i <= 0.5 * epochs else lr * 0.2\n",
    "            \n",
    "        for p in m.parameters():\n",
    "            p.data += -epoch_lr * p.grad.data\n",
    "        \n",
    "    _, val_loss = m(xval, yval)\n",
    "    print(val_loss.item(), epoch_lr)\n",
    "\n",
    "    losses.append(val_loss.item())\n"
   ]
  },
  {
   "cell_type": "code",
   "execution_count": 35,
   "metadata": {},
   "outputs": [
    {
     "data": {
      "text/plain": [
       "[<matplotlib.lines.Line2D at 0x12f6a23e0>]"
      ]
     },
     "execution_count": 35,
     "metadata": {},
     "output_type": "execute_result"
    },
    {
     "data": {
      "image/png": "[encoded data removed]",
      "text/plain": [
       "<Figure size 640x480 with 1 Axes>"
      ]
     },
     "metadata": {},
     "output_type": "display_data"
    }
   ],
   "source": [
    "plt.plot(range(epochs), losses)"
   ]
  },
  {
   "attachments": {},
   "cell_type": "markdown",
   "metadata": {},
   "source": [
    "blocksize=3,\n",
    "embedding_dimension=10,\n",
    "vocab_size=27,\n",
    "hidden_layer_size=50\n",
    "val_loss=2.368145227432251\n",
    "\n",
    "blocksize=3,\n",
    "embedding_dimension=20,\n",
    "vocab_size=27,\n",
    "hidden_layer_size=50\n",
    "val_loss=2.366750478744507\n"
   ]
  },
  {
   "cell_type": "markdown",
   "metadata": {},
   "source": []
  }
 ],
 "metadata": {
  "kernelspec": {
   "display_name": "env",
   "language": "python",
   "name": "python3"
  },
  "language_info": {
   "codemirror_mode": {
    "name": "ipython",
    "version": 3
   },
   "file_extension": ".py",
   "mimetype": "text/x-python",
   "name": "python",
   "nbconvert_exporter": "python",
   "pygments_lexer": "ipython3",
   "version": "3.10.10"
  },
  "orig_nbformat": 4
 },
 "nbformat": 4,
 "nbformat_minor": 2
}
