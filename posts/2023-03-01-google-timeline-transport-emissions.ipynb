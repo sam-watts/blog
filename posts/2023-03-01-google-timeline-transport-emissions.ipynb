{
 "cells": [
  {
   "attachments": {},
   "cell_type": "markdown",
   "metadata": {},
   "source": [
    "Main point\n",
    "- I'm going flight free in 2023"
   ]
  },
  {
   "attachments": {},
   "cell_type": "markdown",
   "metadata": {},
   "source": [
    "\n",
    "\n",
    "Recently I came across this image whilst browsing instagram (their audience targeting is clearly pretty good...)\n",
    "\n",
    "![Taken from Flight Free UK](../images/2023-03-01-google-timeline-transport-emissions/Why-for_the_climate-426x426.jpg)\n",
    "\n",
    "I've been taking trains through europe for a while now - since moving to Denmark\n",
    "a year and a half ago, it's become my main method of transport for visiting the\n",
    "UK. I generally spread the trains over 2 days, with an overnight in Germany.\n",
    "Obviously the cost is much higher than flying, \n",
    "\n",
    "\n"
   ]
  },
  {
   "attachments": {},
   "cell_type": "markdown",
   "metadata": {},
   "source": [
    "* Royal Soceity - to meet current levels of aviation we would need one of:\n",
    "    * Half of all agricultural land in UK to be used for biofuel\n",
    "    * Double the current renewable grid capacity for hydrogen production\n",
    "        * This becomes even more challenging when you consider the increased\n",
    "          demand on the electricity grid from personal vehicle and home heating\n",
    "          electrification, which in the UK is projected to contribute to a 15%\n",
    "          increase in demand by 2035\n",
    "          \n",
    "https://www.theguardian.com/business/2023/feb/28/scientists-uk-aviation-net-zero-ambitions-half-farmland-double-renewable-electricity\n",
    "\n",
    "\n",
    "Our World in Data - CO2 emissions https://ourworldindata.org/co2-emissions"
   ]
  },
  {
   "attachments": {},
   "cell_type": "markdown",
   "metadata": {},
   "source": [
    "* Flying is 2.5% of CO2 emissions (3.5% of heating when we consider other\n",
    "  factors). This makes the problem seem small compared to other sectors.\n",
    "* Only 20% of the world population have ever been on a plane - this 3.5% is\n",
    "  concentrated amongst a minority of the population\n",
    "* This seem like a class problem. ie. if you have the finanancial ability to get\n",
    "  on plane, then you could be making far better choices.\n",
    "\n",
    "* Comparison - in typical people's lifestyles, what % does flying contribution\n",
    "  towards their carbon footprint?\n",
    "\n",
    "* Reductions towards net zero are fine if we anticipate that every other country\n",
    "  is trying to reach net zero at the same time.\n",
    "\n",
    "* When we look at other countries, this becomes problematic\n",
    "\n",
    "* Our quality of living in europe is contingent on an outsized amount of historic emitted co2"
   ]
  },
  {
   "attachments": {},
   "cell_type": "markdown",
   "metadata": {},
   "source": [
    "* 1% of global population are responsible for 50% of aviation emissions\n",
    "\n",
    "> The frequent flyers identified in the study travelled about 35,000 miles\n",
    "> (56,000km) a year, Gössling said, equivalent to three long-haul flights a\n",
    "> year, one short-haul flight per month, or some combination of the two.\n",
    "\n",
    "https://www.theguardian.com/business/2020/nov/17/people-cause-global-aviation-emissions-study-covid-19\n",
    "\n",
    "Being vegan for a year can save around 1 tonne of CO2 per year - which can be\n",
    "eliminated by taking a single flight!"
   ]
  },
  {
   "attachments": {},
   "cell_type": "markdown",
   "metadata": {},
   "source": [
    "<iframe src=\"https://ourworldindata.org/grapher/per-capita-ghg-emissions?tab=chart&country=GBR~CHN~USA~DNK~IND\" loading=\"lazy\" style=\"width: 100%; height: 600px; border: 0px none;\"></iframe>"
   ]
  },
  {
   "cell_type": "markdown",
   "metadata": {},
   "source": []
  }
 ],
 "metadata": {
  "kernelspec": {
   "display_name": "Python 3",
   "language": "python",
   "name": "python3"
  },
  "language_info": {
   "name": "python",
   "version": "3.10.6"
  },
  "orig_nbformat": 4,
  "vscode": {
   "interpreter": {
    "hash": "916dbcbb3f70747c44a77c7bcd40155683ae19c65e1c03b4aa3499c5328201f1"
   }
  }
 },
 "nbformat": 4,
 "nbformat_minor": 2
}
